{
 "cells": [
  {
   "cell_type": "code",
   "execution_count": 12,
   "id": "eca8d80a-07d5-4dbc-a955-1849f6fd5b70",
   "metadata": {},
   "outputs": [],
   "source": [
    "##Define a function/dictionary that returns the ‘lower or upper limit of protein, vitamin C, iron, etc.’ needed by a population."
   ]
  },
  {
   "cell_type": "code",
   "execution_count": 13,
   "id": "2cf81e59-90f4-46ee-bd58-642e333a2193",
   "metadata": {},
   "outputs": [],
   "source": [
    "##DRI data structure"
   ]
  },
  {
   "cell_type": "code",
   "execution_count": 14,
   "id": "3ac6e678-b2e1-41e6-8f26-6b2cb87fa452",
   "metadata": {},
   "outputs": [],
   "source": [
    "DRI_19_29 = {\n",
    "    \"male\": {\n",
    "        \"calories\": 2400,    # Example only, subject to change according to project requirements.\n",
    "        \"protein\": 56,       # g/day\n",
    "        \"carbohydrate\": None, # Possible use of ratios or other means\n",
    "        \"fiber\": 38,         # g/day\n",
    "        \"vitamin_c\": 90,     # mg/day\n",
    "        \"iron\": 8,           # mg/day\n",
    "        # ... Continue listing other nutrients ...\n",
    "    },\n",
    "    \"female\": {\n",
    "        \"calories\": 2000,\n",
    "        \"protein\": 46,\n",
    "        \"fiber\": 25,\n",
    "        \"vitamin_c\": 75,\n",
    "        \"iron\": 18,\n",
    "        # ...\n",
    "    }\n",
    "}"
   ]
  },
  {
   "cell_type": "code",
   "execution_count": 15,
   "id": "a60c94da-66a5-4bc6-96c7-9ff98d361a66",
   "metadata": {},
   "outputs": [],
   "source": [
    "def get_dri_value(gender: str, nutrient: str) -> float:\n",
    "    \"\"\"\n",
    "    Return the DRI (lowest or recommended) for ‘nutrient’ for 19-29 year old counterparts.\n",
    "    \"\"\"\n",
    "    if gender not in [\"male\", \"female\"]:\n",
    "        raise ValueError(\"gender must be 'male' or 'female'\")\n",
    "    # take from a dictionary\n",
    "    return DRI_19_29[gender].get(nutrient, None)\n"
   ]
  },
  {
   "cell_type": "code",
   "execution_count": 16,
   "id": "e7879c38-c6ed-4569-bd82-a1440ee0977f",
   "metadata": {},
   "outputs": [],
   "source": [
    "##Unit Tests"
   ]
  },
  {
   "cell_type": "code",
   "execution_count": 17,
   "id": "33f8dd51-17ed-4329-a130-0b879f233c17",
   "metadata": {},
   "outputs": [
    {
     "name": "stderr",
     "output_type": "stream",
     "text": [
      "....\n",
      "----------------------------------------------------------------------\n",
      "Ran 4 tests in 0.003s\n",
      "\n",
      "OK\n"
     ]
    },
    {
     "data": {
      "text/plain": [
       "<unittest.main.TestProgram at 0x7f3bdc7eb590>"
      ]
     },
     "execution_count": 17,
     "metadata": {},
     "output_type": "execute_result"
    }
   ],
   "source": [
    "import unittest\n",
    "\n",
    "class TestDRIFunctions(unittest.TestCase):\n",
    "    def test_get_dri_value_male_protein(self):\n",
    "        self.assertEqual(get_dri_value(\"male\", \"protein\"), 56)\n",
    "    \n",
    "    def test_get_dri_value_female_iron(self):\n",
    "        self.assertEqual(get_dri_value(\"female\", \"iron\"), 18)\n",
    "    \n",
    "    def test_invalid_gender(self):\n",
    "        with self.assertRaises(ValueError):\n",
    "            get_dri_value(\"other\", \"protein\")\n",
    "    \n",
    "    def test_nutrient_not_found(self):\n",
    "        val = get_dri_value(\"male\", \"vitamin_z\")\n",
    "        self.assertIsNone(val, \"Nutrient that doesn't exist should return None\")\n",
    "\n",
    "unittest.main(argv=[''], exit=False)"
   ]
  },
  {
   "cell_type": "code",
   "execution_count": null,
   "id": "3fad37b0-dec0-46fa-bd01-c4ef4d6a60b6",
   "metadata": {},
   "outputs": [],
   "source": []
  }
 ],
 "metadata": {
  "kernelspec": {
   "display_name": "Python 3 (ipykernel)",
   "language": "python",
   "name": "python3"
  },
  "language_info": {
   "codemirror_mode": {
    "name": "ipython",
    "version": 3
   },
   "file_extension": ".py",
   "mimetype": "text/x-python",
   "name": "python",
   "nbconvert_exporter": "python",
   "pygments_lexer": "ipython3",
   "version": "3.11.11"
  }
 },
 "nbformat": 4,
 "nbformat_minor": 5
}
