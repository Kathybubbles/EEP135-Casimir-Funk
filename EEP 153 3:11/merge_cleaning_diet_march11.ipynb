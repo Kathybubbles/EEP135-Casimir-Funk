{
 "cells": [
  {
   "cell_type": "markdown",
   "metadata": {
    "vscode": {
     "languageId": "plaintext"
    }
   },
   "source": [
    " # Merging Datasets, Cleaning and Filtering Dataframe, & Diet Function -> Deliverable A: Data on Prices for Different Food"
   ]
  },
  {
   "cell_type": "code",
   "execution_count": 2,
   "metadata": {},
   "outputs": [],
   "source": [
    "# Importing packages\n",
    "import pandas as pd\n",
    "import re "
   ]
  },
  {
   "cell_type": "code",
   "execution_count": 26,
   "metadata": {},
   "outputs": [],
   "source": [
    "# Creating and cleaning data\n",
    "def drop_nan_columns(df):\n",
    "    # Drop columns where all values are NaN\n",
    "    df_cleaned = df.dropna(axis=1, how='all')\n",
    "    return df_cleaned\n",
    "\n",
    "# USDA Data for Prices\n",
    "usda_data = pd.read_csv(\"USDA-305tj(Sheet1).csv\")\n",
    "# Trader Joes Data for Ingredients\n",
    "tj_data = pd.read_csv('trader_joes.csv')\n",
    "tj_data.rename(columns={\"gtin_upc\":\"GTIN/UPC\"}, inplace=True)\n",
    "\n",
    "# Merging data\n",
    "merged_data = pd.merge(usda_data, tj_data, how = 'outer', on = 'GTIN/UPC' )\n",
    "merged_data = drop_nan_columns(merged_data)\n",
    "\n",
    "# Data of complete pricing\n",
    "completed_prices = pd.read_csv(\"EEP153_COMPLETED_PRICES.csv\")\n",
    "completed_prices['GTIN/UPC'] = completed_prices['GTIN/UPC'].astype(int)\n",
    "\n",
    "# Dropping unneeded columns and duplicates\n",
    "not_needed = ['branded_food_category', 'data_source', 'modified_date',\n",
    "            'available_date', 'market_country', 'Unnamed: 0', 'brand_owner', 'Market Country',\n",
    "            'brand_name', 'Brand Owner', 'Brand', 'fdc_id']\n",
    "\n",
    "merged_data_drop = merged_data.drop(not_needed, axis = 1)\n",
    "merged_data_drop.drop_duplicates()\n",
    "\n",
    "# Setting index, and cleaning data\n",
    "merged_data_drop = merged_data_drop.set_index('Name')\n",
    "merged_data_clean =  merged_data_drop[merged_data_drop.index.notna()]\n",
    "merged_data_clean = merged_data_clean.reset_index().drop(['Price', 'Name'], axis = 1)\n",
    "merged_data_clean = merged_data_clean[~merged_data_clean['GTIN/UPC'].duplicated(keep='first')]\n",
    "\n",
    "# Final data frame, before cleaning\n",
    "final_data = pd.merge(completed_prices, merged_data_clean, on = 'GTIN/UPC', how = 'left')\n",
    "\n",
    "# Cleaning Data Frame\n",
    "final_data['ingredients'] = final_data.apply(\n",
    "    lambda row: f\"{row['ingredients_x']}, {row['ingredients_y']}\" if pd.notna(row['ingredients_x']) and pd.notna(row['ingredients_y']) \n",
    "    else row['ingredients_x'] if pd.notna(row['ingredients_x']) \n",
    "    else row['ingredients_y'], axis=1\n",
    ")\n",
    "\n",
    "# Filling in missing ingredients\n",
    "fill_ingredients = ['WHEAT FLOUR, SUGAR, SALT, BARLEY MALT SYRUP',\\\n",
    "                     'POPCORN, SUNFLOWER OIL, SUGAR, SALT', 'SOLID WHITE TUNA, WATER, SALT']\n",
    "\n",
    "final_data.loc[final_data['ingredients'].isna(), 'ingredients'] = fill_ingredients\n",
    "final_data = final_data.drop(['ingredients_x', 'ingredients_y'], axis = 1).set_index('Name')\n",
    "\n",
    "# Final dataset\n",
    "final_data\n",
    "\n",
    "# Converting to CSV\n",
    "final_data.to_csv('final_data_tj.csv', index=False)"
   ]
  },
  {
   "cell_type": "code",
   "execution_count": 27,
   "metadata": {},
   "outputs": [],
   "source": [
    "# Function to filter out dataframe depending on certain strings\n",
    "def remove_rows(df, column_name, search_strings):\n",
    "    # Convert all values in the specified column to strings\n",
    "    df[column_name] = df[column_name].apply(lambda x: str(x) if x is not None else \"\")\n",
    "    # Create a regex pattern to match any of the search strings as whole words\n",
    "    search_pattern = r'|'.join([r'\\b' + re.escape(search_string) + r'\\b' for search_string in search_strings])\n",
    "    # Filtering out rows where the column contains any of the search strings\n",
    "    df_filtered = df[~df[column_name].str.contains(search_pattern, case=False, na=False, regex=True)]\n",
    "    return df_filtered\n",
    "\n",
    "\n",
    "# Function to keep certain values depending on certain strings\n",
    "def keep_rows(df, column_name, search_strings):\n",
    "    # Converts all values to strings\n",
    "    df[column_name] = df[column_name].apply(lambda x: str(x) if x is not None else \"\")\n",
    "    # Create a regex pattern for exact matches\n",
    "    search_pattern = r'|'.join([r'\\b' + re.escape(search_string) + r'\\b' for search_string in search_strings])\n",
    "    # Filter rows where the column matches any of the exact strings in search_strings\n",
    "    filtered_df = df[df[column_name].str.contains(search_pattern, case=False, na=False)]\n",
    "    return filtered_df\n",
    "\n"
   ]
  },
  {
   "cell_type": "code",
   "execution_count": null,
   "metadata": {},
   "outputs": [],
   "source": [
    "# Vegetarian Dataframe\n",
    "meats_and_fish = ['CHICKEN', 'BEEF', 'HAM', 'PORK', 'FISH', 'TURKEY', 'SALMON', 'TUNA',\n",
    "                  'SHRIMP', 'LOBSTER', 'CRAB', 'SCALLOPS', 'CLAMS', 'OYSTERS', 'GELATINE']\n",
    "veg_df = remove_rows(final_data, 'ingredients', meats_and_fish)\n",
    "# Converting to CSV\n",
    "veg_df.to_csv('vegetarian_tj.csv', index=False)"
   ]
  },
  {
   "cell_type": "code",
   "execution_count": null,
   "metadata": {},
   "outputs": [],
   "source": [
    "# Vegan Dataframe\n",
    "animal_products = ['CHICKEN', 'BEEF', 'HAM', 'PORK', 'FISH','TURKEY', 'SALMON', 'TUNA',\n",
    "                    'MILK', 'BUTTER', 'EGG', 'EGGS', 'HONEY', 'CHEESE', 'YOGURT', 'CREAM', 'GELATINE',\n",
    "                    'SHRIMP', 'LOBSTER', 'CRAB', 'SCALLOPS', 'CLAMS', 'OYSTERS']\n",
    "\n",
    "vegan_df = remove_rows(final_data, 'ingredients', animal_products)\n",
    "# Converting to CSV\n",
    "vegan_df.to_csv('vegan_tj.csv', index=False)"
   ]
  },
  {
   "cell_type": "code",
   "execution_count": null,
   "metadata": {},
   "outputs": [],
   "source": [
    "# Carnivore Dataframe\n",
    "carnivore_df = keep_rows(final_data, 'ingredients', animal_products)\n",
    "# Converting to CSV\n",
    "carnivore_df.to_csv('carnivore_tj.csv', index=False)"
   ]
  },
  {
   "cell_type": "code",
   "execution_count": 24,
   "metadata": {},
   "outputs": [],
   "source": [
    "# Allergen Free Dataframe\n",
    "allergen_free = ['MILK', 'BUTTER', 'CHEESE', 'YOGURT', 'CREAM', \n",
    "                     'EGG', 'EGGS', \n",
    "                     'WHEAT', 'BARLEY', 'RYE', 'MALT', 'OATS', \n",
    "                     'PEANUTS', 'ALMONDS', 'CASHEWS', 'WALNUTS', 'PISTACHIOS', 'PECANS', 'HAZELNUTS', \n",
    "                     'SOY', 'SOYBEAN', 'SOY LECITHIN', 'TOFU', \n",
    "                     'SHRIMP', 'LOBSTER', 'CRAB', 'SCALLOPS', 'CLAMS', 'OYSTERS']\n",
    "\n",
    "allergen_free_df = remove_rows(final_data, 'ingredients', allergen_free)\n",
    "\n",
    "# Converting to CSV\n",
    "allergen_free_df.to_csv('allergen_free_tj.csv', index=False)"
   ]
  },
  {
   "cell_type": "code",
   "execution_count": 25,
   "metadata": {},
   "outputs": [],
   "source": [
    "# High Fat and Low Carb Diet DF\n",
    "\n",
    "hflc = ['CHICKEN', 'BEEF', 'HAM', 'PORK', 'FISH','TURKEY', 'SALMON', 'TUNA',\n",
    "                    'MILK', 'BUTTER', 'EGG', 'EGGS', 'HONEY', 'CHEESE', 'YOGURT', 'CREAM', 'GELATINE',\n",
    "                    'SHRIMP', 'LOBSTER', 'CRAB', 'SCALLOPS', 'CLAMS', 'OYSTERS', 'OIL', 'BERRIES',\n",
    "                    'AVOCADO', 'PEANUTS', 'ALMONDS', 'CASHEWS', 'WALNUTS', 'PISTACHIOS', 'PECANS', 'HAZELNUTS']\n",
    "\n",
    "hflc_df = keep_rows(final_data, 'ingredients', hflc)\n",
    "# Converting to CSV\n",
    "hflc_df.to_csv('hflc_tj.csv', index=False)"
   ]
  }
 ],
 "metadata": {
  "kernelspec": {
   "display_name": "Python 3",
   "language": "python",
   "name": "python3"
  },
  "language_info": {
   "codemirror_mode": {
    "name": "ipython",
    "version": 3
   },
   "file_extension": ".py",
   "mimetype": "text/x-python",
   "name": "python",
   "nbconvert_exporter": "python",
   "pygments_lexer": "ipython3",
   "version": "3.12.1"
  }
 },
 "nbformat": 4,
 "nbformat_minor": 2
}
