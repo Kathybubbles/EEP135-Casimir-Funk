{
 "cells": [
  {
   "cell_type": "code",
   "execution_count": 50,
   "id": "87fb0ff1-6119-4e37-8aad-513764a73963",
   "metadata": {},
   "outputs": [],
   "source": [
    "apikey = \"7RA6dB7O1NBSWBjmFGuP4DlIZP8DeWqeHW3Rrkr8\"\n",
    "import fooddatacentral as fdc\n",
    "import pandas as pd\n",
    "import requests\n",
    "import time\n",
    "\n",
    "df = pd.read_csv(\"trader_joes - trader_joes.csv\")\n",
    "\n",
    "\n",
    "for idx, row in df.iterrows():\n",
    "    fdc_id = row[\"fdc_id\"]\n",
    "\n",
    "data_list = []\n",
    "\n",
    "for fdcid in df[\"fdc_id\"]:\n",
    "    try:\n",
    "        nutrient = fdc.nutrients(apikey, fdc_id=fdcid)\n",
    "\n",
    "        cols = [f\"{idx} ({row['Units']})\" for idx, row in nutrient.iterrows()]\n",
    "        data = dict(zip(cols, nutrient[\"Quantity\"].values))\n",
    "        \n",
    "        data[\"fdc_id\"] = fdcid\n",
    "        data_list.append(data)\n",
    "    except Exception as e:\n",
    "        # print(f\"Failed on FDC ID {fdcid}, error: {e}\")\n",
    "\n",
    "        continue\n",
    "\n",
    "df2 = pd.DataFrame(data_list)\n",
    "df2.to_csv(\"samsung_galaxy_ultra_nutritional_data.csv\", index=False)\n"
   ]
  },
  {
   "cell_type": "code",
   "execution_count": 69,
   "id": "353614f9-cb2c-49f4-be1e-946b5bc2e964",
   "metadata": {},
   "outputs": [
    {
     "name": "stdout",
     "output_type": "stream",
     "text": [
      "A_ub shape: (16, 673)\n",
      "b_ub shape: (16,)\n",
      "      fdc_id  gtin_upc                                     Name  Price  \\\n",
      "40    373612    180245        FROSTED SHREDDED BITE SIZE WHEATS   2.99   \n",
      "75    397403    507653  TRADER JOE'S, SMALL WHOLE GRAIN LENTILS   0.99   \n",
      "133   403399    537698                   HEMP SEED, RAW SHELLED   6.49   \n",
      "207  1849873    954174                  POTATO CHIPS, OLIVE OIL   2.99   \n",
      "308  1171477    930895                       TACO SEASONING MIX   0.99   \n",
      "\n",
      "     Optimal Quantity  \n",
      "40           1.456058  \n",
      "75           0.128323  \n",
      "133          0.380655  \n",
      "207          2.272513  \n",
      "308          2.926415  \n",
      "Minimum Total Cost: $16.64\n"
     ]
    }
   ],
   "source": [
    "import pandas as pd\n",
    "import numpy as np\n",
    "from scipy.optimize import linprog\n",
    "\n",
    "nutrition = pd.read_csv(\"samsung_galaxy_ultra_nutritional_data.csv\")\n",
    "minimum_req = pd.read_csv(\"minimum_req.csv\")\n",
    "ingredients = pd.read_csv(\"trader_joes_enriched.csv\")\n",
    "shitty = pd.read_csv(\"USDA-305tj(Sheet1).csv\")\n",
    "\n",
    "nutrition_with_upc = nutrition.merge(ingredients[['fdc_id', 'gtin_upc']], on='fdc_id', how='left')\n",
    "shitty_renamed = shitty.rename(columns={\"GTIN/UPC\": \"gtin_upc\"})\n",
    "nutrition_with_prices = nutrition_with_upc.merge(\n",
    "    shitty_renamed[['gtin_upc', 'Price', 'Name']], \n",
    "    on='gtin_upc',\n",
    "    how='left'\n",
    ")\n",
    "\n",
    "nutrition_with_prices.dropna(subset=['Price'], inplace=True)\n",
    "nutrients_to_optimize = minimum_req['Nutrition'].values\n",
    "available_nutrients = [col for col in nutrition_with_prices.columns if col.split(\" (\")[0] in nutrients_to_optimize]\n",
    "costs = nutrition_with_prices['Price'].values\n",
    "A = nutrition_with_prices[available_nutrients].fillna(0).values.T  \n",
    "b = minimum_req.set_index('Nutrition').loc[ [col.split(\" (\")[0] for col in available_nutrients], \"F 19-30\"].apply(pd.to_numeric, errors='coerce').fillna(0).values.flatten()\n",
    "\n",
    "bounds = [(0, None)] * len(costs) \n",
    "\n",
    "\n",
    "print(f\"A_ub shape: {A.shape}\") \n",
    "print(f\"b_ub shape: {b.shape}\") \n",
    "if len(b.shape) > 1: \n",
    "    print(\"b_ub is not 1D! Flattening again...\") \n",
    "    b = b.flatten()\n",
    "\n",
    "if A.shape[0] != b.shape[0]: \n",
    "    if A.shape[0] > b.shape[0]: \n",
    "        b = np.pad(b, (0, A.shape[0] - b.shape[0]), mode='constant', constant_values=0) \n",
    "    else: \n",
    "        b = b[:A.shape[0]]\n",
    "\n",
    "result = linprog(c=costs, A_ub=-A, b_ub=-b, bounds=bounds, method='highs')\n",
    "\n",
    "if result.success:\n",
    "    nutrition_with_prices['Optimal Quantity'] = result.x\n",
    "    selected_foods = nutrition_with_prices[nutrition_with_prices['Optimal Quantity'] > 0]\n",
    "    solution_df = selected_foods[['fdc_id', 'gtin_upc', 'Name', 'Price', 'Optimal Quantity']]\n",
    "    total_cost = result.fun  \n",
    "else:\n",
    "    solution_df = pd.DataFrame({\"Error\": [\"Optimization Failed\"]})\n",
    "    total_cost = None\n",
    "\n",
    "\n",
    "print(solution_df)\n",
    "\n",
    "if total_cost is not None:\n",
    "    print(f\"Minimum Total Cost: ${total_cost:.2f}\")"
   ]
  },
  {
   "cell_type": "code",
   "execution_count": 51,
   "id": "6c6183c8-4de7-4c53-a78d-35e4b4902c9d",
   "metadata": {},
   "outputs": [
    {
     "name": "stdout",
     "output_type": "stream",
     "text": [
      "Index(['Vitamin A, IU (IU)', 'Iron, Fe (mg)', 'Total lipid (fat) (g)',\n",
      "       'Vitamin C, total ascorbic acid (mg)', 'Fiber, total dietary (g)',\n",
      "       'Fatty acids, total saturated (g)', 'Calcium, Ca (mg)',\n",
      "       'Vitamin D (D2 + D3), International Units (IU)', 'Protein (g)',\n",
      "       'Cholesterol (mg)', 'Sodium, Na (mg)', 'Energy (kcal)',\n",
      "       'Fatty acids, total trans (g)', 'Total Sugars (g)',\n",
      "       'Carbohydrate, by difference (g)', 'fdc_id',\n",
      "       'Fatty acids, total polyunsaturated (g)',\n",
      "       'Fatty acids, total monounsaturated (g)', 'Potassium, K (mg)',\n",
      "       'Fiber, insoluble (g)', 'Fiber, soluble (g)', 'Thiamin (mg)',\n",
      "       'Vitamin B-12 (µg)', 'Selenium, Se (µg)', 'Vitamin B-6 (mg)',\n",
      "       'Folate, total (µg)', 'Riboflavin (mg)', 'Niacin (mg)',\n",
      "       'Copper, Cu (mg)', 'Zinc, Zn (mg)', 'Magnesium, Mg (mg)',\n",
      "       'Phosphorus, P (mg)', 'Manganese, Mn (mg)', 'Vitamin A (µg)'],\n",
      "      dtype='object')\n"
     ]
    }
   ],
   "source": [
    "df = pd.read_csv(\"samsung_galaxy_ultra_nutritional_data.csv\")\n",
    "print(df.columns)"
   ]
  },
  {
   "cell_type": "code",
   "execution_count": 6,
   "id": "e0f5ca2a-8be1-4d6e-985e-6c34b719f383",
   "metadata": {},
   "outputs": [],
   "source": [
    "df_req = pd.read_csv(\"minimum_req.csv\")\n",
    "df_foods = pd.read_csv(\"trader_joes_enriched.csv\")\n",
    "\n",
    "name_map = {\n",
    "    'Energy': 'calories_kcal',\n",
    "    'Protein': 'protein_g',\n",
    "    'Fiber, total dietary': 'fiber_g',\n",
    "    'Fiber': 'fiber_g', \n",
    "    'Carbohydrate, by difference': 'carb_g',\n",
    "    'Calcium, Ca': 'calcium_mg',\n",
    "    'Iron, Fe': 'iron_mg',\n",
    "    'Magnesium, Mg': 'magnesium_mg',\n",
    "    'Niacin': 'niacin_mg',\n",
    "    'Phosphorus, P': 'phosphorus_mg',\n",
    "    'Potassium, K': 'potassium_mg',\n",
    "    'Riboflavin': 'riboflavin_mg',\n",
    "    'Thiamin': 'thiamin_mg',\n",
    "    'Vitamin A, RAE': 'vita_rae_mcg',\n",
    "    'Vitamin B-12': 'vitb12_mcg',\n",
    "    'Vitamin B-6': 'vitb6_mg',\n",
    "    'Vitamin C, total ascorbic acid': 'vitc_mg',\n",
    "    'vitamin C, total ascorbic acid': 'vitc_mg', \n",
    "    'vitamin E (alpha-tocopherol)': 'vite_mg',\n",
    "    'Vitamin K (phylloquinone)': 'vitk_mcg',\n",
    "    'Zinc, Zn': 'zinc_mg'\n",
    "}\n",
    "\n",
    "df_req['Nutrition_renamed'] = df_req['Nutrition'].map(name_map)\n",
    "\n",
    "def get_rda_value(nutrient_col, group, df_req):\n",
    "    row_match = df_req[df_req['Nutrition_renamed'] == nutrient_col]\n",
    "    if len(row_match) == 0:\n",
    "        return None\n",
    "    return row_match[group].values[0]\n",
    "\n",
    "group_name = \"F19-30\"\n",
    "\n",
    "for original_name, food_column in name_map.items():\n",
    "    if food_column not in df_foods.columns:\n",
    "        continue  \n",
    "    \n",
    "    rda_val = get_rda_value(food_column, group_name, df_req)\n",
    "    \n",
    "    if (rda_val is None) or (rda_val == 0):\n",
    "        continue\n",
    "    \n",
    "    pct_col = f\"pct_{group_name}_{food_column}\" \n",
    "    df_foods[pct_col] = (df_foods[food_column] / rda_val) * 100\n",
    "\n",
    "df_foods.to_csv(\"trader_joes_with_rda_percentages.csv\", index=False)"
   ]
  },
  {
   "cell_type": "code",
   "execution_count": 8,
   "id": "825ef25e-3fe6-42ae-bcc0-c30f799cee35",
   "metadata": {},
   "outputs": [
    {
     "name": "stdout",
     "output_type": "stream",
     "text": [
      "<class 'pandas.core.frame.DataFrame'>\n"
     ]
    }
   ],
   "source": [
    "id = 356707 # Put an FDC ID HERE!\n",
    "print(type(fdc.nutrients(apikey,fdc_id=id)))"
   ]
  },
  {
   "cell_type": "code",
   "execution_count": null,
   "id": "cc0576b2-0859-4ff2-8008-a67890ed42c6",
   "metadata": {},
   "outputs": [],
   "source": []
  },
  {
   "cell_type": "code",
   "execution_count": null,
   "id": "0db82075-d4a3-4be8-af06-e9027c496cb2",
   "metadata": {},
   "outputs": [],
   "source": []
  }
 ],
 "metadata": {
  "kernelspec": {
   "display_name": "Python 3 (ipykernel)",
   "language": "python",
   "name": "python3"
  },
  "language_info": {
   "codemirror_mode": {
    "name": "ipython",
    "version": 3
   },
   "file_extension": ".py",
   "mimetype": "text/x-python",
   "name": "python",
   "nbconvert_exporter": "python",
   "pygments_lexer": "ipython3",
   "version": "3.11.11"
  }
 },
 "nbformat": 4,
 "nbformat_minor": 5
}
