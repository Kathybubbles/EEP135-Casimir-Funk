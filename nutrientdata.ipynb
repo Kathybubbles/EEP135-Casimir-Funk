{
 "cells": [
  {
   "cell_type": "code",
   "execution_count": 29,
   "id": "87fb0ff1-6119-4e37-8aad-513764a73963",
   "metadata": {},
   "outputs": [
    {
     "name": "stdout",
     "output_type": "stream",
     "text": [
      "Requirement already satisfied: pint>=0.18 in /srv/conda/lib/python3.11/site-packages (from -r requirements.txt (line 2)) (0.24.4)\n",
      "Requirement already satisfied: requests>=2.26.0 in /srv/conda/lib/python3.11/site-packages (from -r requirements.txt (line 5)) (2.32.3)\n",
      "Requirement already satisfied: python-gnupg in /srv/conda/lib/python3.11/site-packages (from -r requirements.txt (line 7)) (0.5.4)\n",
      "Requirement already satisfied: eep153_tools in /srv/conda/lib/python3.11/site-packages (from -r requirements.txt (line 9)) (0.12.4)\n",
      "Requirement already satisfied: fooddatacentral in /srv/conda/lib/python3.11/site-packages (from -r requirements.txt (line 11)) (1.0.10)\n",
      "Requirement already satisfied: platformdirs>=2.1.0 in /srv/conda/lib/python3.11/site-packages (from pint>=0.18->-r requirements.txt (line 2)) (4.3.6)\n",
      "Requirement already satisfied: typing-extensions>=4.0.0 in /srv/conda/lib/python3.11/site-packages (from pint>=0.18->-r requirements.txt (line 2)) (4.12.2)\n",
      "Requirement already satisfied: flexcache>=0.3 in /srv/conda/lib/python3.11/site-packages (from pint>=0.18->-r requirements.txt (line 2)) (0.3)\n",
      "Requirement already satisfied: flexparser>=0.4 in /srv/conda/lib/python3.11/site-packages (from pint>=0.18->-r requirements.txt (line 2)) (0.4)\n",
      "Requirement already satisfied: charset_normalizer<4,>=2 in /srv/conda/lib/python3.11/site-packages (from requests>=2.26.0->-r requirements.txt (line 5)) (3.4.0)\n",
      "Requirement already satisfied: idna<4,>=2.5 in /srv/conda/lib/python3.11/site-packages (from requests>=2.26.0->-r requirements.txt (line 5)) (3.10)\n",
      "Requirement already satisfied: urllib3<3,>=1.21.1 in /srv/conda/lib/python3.11/site-packages (from requests>=2.26.0->-r requirements.txt (line 5)) (2.3.0)\n",
      "Requirement already satisfied: certifi>=2017.4.17 in /srv/conda/lib/python3.11/site-packages (from requests>=2.26.0->-r requirements.txt (line 5)) (2025.1.31)\n",
      "DONE!!!!!!!!!!!!!!!!!!!!!!!!!!!!!!!!!!!!!!!!!!!!!!!!!!!!!!!!!\n"
     ]
    }
   ],
   "source": [
    "!pip install -r requirements.txt #--upgrade\n",
    "apikey = \"7RA6dB7O1NBSWBjmFGuP4DlIZP8DeWqeHW3Rrkr8\"\n",
    "import fooddatacentral as fdc\n",
    "import pandas as pd\n",
    "import requests\n",
    "import time\n",
    "\n",
    "df = pd.read_csv(\"trader_joes_enriched.csv\") # change this if u want to !!\n",
    "\n",
    "\n",
    "for idx, row in df.iterrows():\n",
    "    fdc_id = row[\"fdc_id\"]  \n",
    "\n",
    "data_list = []\n",
    "\n",
    "for fdcid in df[\"fdc_id\"]:\n",
    "    try:\n",
    "        nutrient = fdc.nutrients(apikey, fdc_id=int(fdcid))\n",
    "\n",
    "        cols = [f\"{idx} ({row['Units']})\" for idx, row in nutrient.iterrows()]\n",
    "        data = dict(zip(cols, nutrient[\"Quantity\"].values))\n",
    "        \n",
    "        data[\"fdc_id\"] = int(fdcid)\n",
    "        data_list.append(data)\n",
    "    except Exception as e:\n",
    "        # print(f\"Failed on FDC ID {fdcid}, error: {e}\")\n",
    "\n",
    "        continue\n",
    "\n",
    "df2 = pd.DataFrame(data_list)\n",
    "df2.to_csv(\"samsung_galaxy_ultra_nutritional_data_3.csv\", index=False)\n"
   ]
  },
  {
   "cell_type": "code",
   "execution_count": 3,
   "id": "c5fac2f0-06a9-47e3-b5b6-fba0a89801e4",
   "metadata": {},
   "outputs": [
    {
     "name": "stdout",
     "output_type": "stream",
     "text": [
      "                 Error\n",
      "0  Optimization Failed\n"
     ]
    }
   ],
   "source": [
    "import pandas as pd\n",
    "import numpy as np\n",
    "from scipy.optimize import linprog\n",
    "\n",
    "\n",
    "nutrition = pd.read_csv(\"samsung_galaxy_ultra_nutritional_data_3.csv\")\n",
    "minimum_req = pd.read_csv(\"minimum_req.csv\")\n",
    "ingredients = pd.read_csv(\"hflc_tj.csv\") # change this for different shit\n",
    "shitty = pd.read_csv(\"USDA-305tj(Sheet1).csv\")\n",
    "\n",
    "\n",
    "nutrition_with_prices = nutrition.merge(ingredients[['GTIN/UPC', 'fdc_id', 'Price']], on='fdc_id', how='left')\n",
    "\n",
    "\n",
    "nutrition_with_prices = nutrition_with_prices.merge(\n",
    "    shitty[['GTIN/UPC', 'Name']], \n",
    "    on='GTIN/UPC',\n",
    "    how='left'\n",
    ")\n",
    "\n",
    "nutrition_with_prices.dropna(subset=['Price'], inplace=True)\n",
    "\n",
    "nutrients_to_optimize = minimum_req['Nutrition'].values\n",
    "\n",
    "available_nutrients = [col for col in nutrition_with_prices.columns if col.split(\" (\")[0] in nutrients_to_optimize]\n",
    "\n",
    "\n",
    "costs = nutrition_with_prices['Price'].values\n",
    "\n",
    "A = nutrition_with_prices[available_nutrients].fillna(0).values.T  \n",
    "\n",
    "b = minimum_req.set_index('Nutrition').loc[\n",
    "    [col.split(\" (\")[0] for col in available_nutrients], \"F 19-30\"\n",
    "].apply(pd.to_numeric, errors='coerce').fillna(0).values.flatten()\n",
    "\n",
    "\n",
    "if A.shape[0] != b.shape[0]:\n",
    "    if A.shape[0] > b.shape[0]:\n",
    "        b = np.pad(b, (0, A.shape[0] - b.shape[0]), mode='constant', constant_values=0)\n",
    "    else:\n",
    "        b = b[:A.shape[0]]\n",
    "\n",
    "bounds = [(0, None)] * len(costs)\n",
    "\n",
    "result = linprog(c=costs, A_ub=-A, b_ub=-b, bounds=bounds, method='highs')\n",
    "\n",
    "if result.success:\n",
    "    nutrition_with_prices['Optimal Quantity'] = result.x\n",
    "    selected_foods = nutrition_with_prices[nutrition_with_prices['Optimal Quantity'] > 0]\n",
    "    \n",
    "    solution_df = selected_foods[['Name', 'Price', 'Optimal Quantity']]\n",
    "\n",
    "    total_cost = result.fun  # Minimum cost found\n",
    "else:\n",
    "    solution_df = pd.DataFrame({\"Error\": [\"Optimization Failed\"]})\n",
    "    total_cost = None\n",
    "\n",
    "print(solution_df)\n",
    "\n",
    "if total_cost is not None:\n",
    "    print(f\"Minimum Total Cost: ${total_cost:.2f}\")"
   ]
  }
 ],
 "metadata": {
  "kernelspec": {
   "display_name": "Python 3 (ipykernel)",
   "language": "python",
   "name": "python3"
  },
  "language_info": {
   "codemirror_mode": {
    "name": "ipython",
    "version": 3
   },
   "file_extension": ".py",
   "mimetype": "text/x-python",
   "name": "python",
   "nbconvert_exporter": "python",
   "pygments_lexer": "ipython3",
   "version": "3.11.11"
  }
 },
 "nbformat": 4,
 "nbformat_minor": 5
}
